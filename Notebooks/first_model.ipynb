{
 "cells": [
  {
   "cell_type": "code",
   "execution_count": 9,
   "id": "b47bb2b9",
   "metadata": {},
   "outputs": [],
   "source": [
    "import pandas as pd\n",
    "import matplotlib.pyplot as plt\n",
    "import seaborn as sns\n",
    "import os\n",
    "from sklearn.preprocessing import LabelEncoder, OneHotEncoder\n",
    "import numpy as np\n",
    "from sklearn.model_selection import KFold"
   ]
  },
  {
   "cell_type": "code",
   "execution_count": 10,
   "id": "b5d9a1bb",
   "metadata": {},
   "outputs": [
    {
     "name": "stdout",
     "output_type": "stream",
     "text": [
      "Dataset loaded successfully! Shape: (5646828, 19)\n",
      "Columns: ['tpep_pickup_datetime', 'tpep_dropoff_datetime', 'trip_distance', 'fare_amount', 'trip_duration_min', 'pickup_date', 'pickup_hour', 'pickup_day_of_week', 'pickup_borough', 'pickup_zone', 'pickup_service_zone', 'dropoff_borough', 'dropoff_zone', 'dropoff_service_zone', 'fare_per_minute', 'trip_speed', 'trip_speed_mph', 'time_of_day', 'is_weekend']\n",
      "\n",
      "Encoding complete!\n",
      "Encoded dataset shape: (5646828, 33)\n",
      "\n",
      "Newly created columns: ['pickup_borough_Brooklyn', 'pickup_borough_EWR', 'pickup_borough_Manhattan', 'pickup_borough_Queens', 'pickup_borough_Staten Island', 'pickup_borough_Unknown', 'dropoff_borough_Brooklyn', 'dropoff_borough_EWR', 'dropoff_borough_Manhattan', 'dropoff_borough_Queens', 'dropoff_borough_Staten Island', 'dropoff_borough_Unknown', 'pickup_service_zone_Boro Zone', 'pickup_service_zone_EWR', 'pickup_service_zone_Yellow Zone', 'dropoff_service_zone_Boro Zone', 'dropoff_service_zone_EWR', 'dropoff_service_zone_Yellow Zone', 'time_of_day_encoded', 'pickup_zone_target_encoded', 'dropoff_zone_target_encoded']\n",
      "\n",
      "Encoded dataset saved to: ../Data/cleaned/encoded_taxi_data.csv\n"
     ]
    }
   ],
   "source": [
    "# Load your dataset\n",
    "df = pd.read_csv(\"../Data/cleaned/final_cleaned_jan_feb_2023_taxi_data.csv\")\n",
    "print(f\"Dataset loaded successfully! Shape: {df.shape}\")\n",
    "print(f\"Columns: {list(df.columns)}\")\n",
    "\n",
    "#make function to encode binary, one-hot, and ordinal\n",
    "\n",
    "def base_encode(df):\n",
    "    df_encoded = df.copy()\n",
    "\n",
    "    # 1. Binary Encoding\n",
    "    df_encoded['is_weekend'] = df_encoded['is_weekend'].astype(int)\n",
    "\n",
    "    # 2. One-Hot Encoding\n",
    "    onehot_cols = ['pickup_borough', 'dropoff_borough', 'pickup_service_zone', 'dropoff_service_zone']\n",
    "    df_encoded = pd.get_dummies(df_encoded, columns=onehot_cols, drop_first=True)\n",
    "\n",
    "    # 3. Ordinal Encoding\n",
    "    time_order = { \n",
    "        'Early Morning': 0,\n",
    "        'Morning Rush': 1,\n",
    "        'Midday': 2,\n",
    "        'Evening Rush': 3,\n",
    "        'Night': 4\n",
    "    }\n",
    "    df_encoded['time_of_day_encoded'] = df_encoded['time_of_day'].map(time_order)\n",
    "    df_encoded.drop('time_of_day', axis=1, inplace=True)\n",
    "\n",
    "    return df_encoded\n",
    "\n",
    "# Use KFold for safe target encoding\n",
    "\n",
    "def target_encode_zones_cv(df,target_column,zone_columns, n_splits=5):\n",
    "    kf = KFold(n_splits=n_splits, shuffle=True, random_state=42)\n",
    "    df_encoded = df.copy()\n",
    "    \n",
    "    for col in zone_columns:\n",
    "        new_col = f\"{col}_target_encoded\"\n",
    "        df_encoded[new_col] = np.nan\n",
    "\n",
    "        for train_idx, val_idx in kf.split(df):\n",
    "            train, val = df.iloc[train_idx], df.iloc[val_idx]\n",
    "            means = train.groupby(col)[target_column].mean()\n",
    "            df_encoded.loc[val_idx, new_col] = val[col].map(means)\n",
    "\n",
    "    # drop the original high-cardinality columns to avoid confusion when modeling\n",
    "    df_encoded.drop(columns=zone_columns, inplace=True)\n",
    "    return df_encoded\n",
    "\n",
    "# Run the full encoding pipeline\n",
    "\n",
    "# Base encodings\n",
    "df_encoded = base_encode(df)\n",
    "\n",
    "# Target encoding for pickup/dropoff zones\n",
    "high_cardinality_cols = ['pickup_zone', 'dropoff_zone']\n",
    "df_encoded = target_encode_zones_cv(df_encoded, target_column='fare_per_minute', zone_columns=high_cardinality_cols)\n",
    "\n",
    "print(f\"\\nEncoding complete!\")\n",
    "print(f\"Encoded dataset shape: {df_encoded.shape}\")\n",
    "\n",
    "# Show new encoded columns\n",
    "new_cols = [col for col in df_encoded.columns if col not in df.columns]\n",
    "print(f\"\\nNewly created columns: {new_cols}\")\n",
    "\n",
    "#save the encoded daatset\n",
    "output_path = \"../Data/cleaned/encoded_taxi_data.csv\"\n",
    "df_encoded.to_csv(output_path, index=False)\n",
    "print(f\"\\nEncoded dataset saved to: {output_path}\")"
   ]
  }
 ],
 "metadata": {
  "kernelspec": {
   "display_name": "Python 3",
   "language": "python",
   "name": "python3"
  },
  "language_info": {
   "codemirror_mode": {
    "name": "ipython",
    "version": 3
   },
   "file_extension": ".py",
   "mimetype": "text/x-python",
   "name": "python",
   "nbconvert_exporter": "python",
   "pygments_lexer": "ipython3",
   "version": "3.12.11"
  }
 },
 "nbformat": 4,
 "nbformat_minor": 5
}
