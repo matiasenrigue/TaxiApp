{
 "cells": [
  {
   "cell_type": "markdown",
   "metadata": {},
   "source": [
    "## Import the required packages"
   ]
  },
  {
   "cell_type": "code",
   "execution_count": 43,
   "metadata": {},
   "outputs": [],
   "source": [
    "import pandas as pd\n",
    "import matplotlib.pyplot as plt\n",
    "import seaborn as sns\n",
    "import os\n",
    "from tkinter import Tk\n",
    "from tkinter.filedialog import askopenfilename\n",
    "from tkinter.filedialog import asksaveasfilename"
   ]
  },
  {
   "cell_type": "markdown",
   "metadata": {},
   "source": [
    "## I. Data Cleaning"
   ]
  },
  {
   "cell_type": "markdown",
   "metadata": {},
   "source": [
    "#### Load the raw CSV file"
   ]
  },
  {
   "cell_type": "code",
   "execution_count": 2,
   "metadata": {},
   "outputs": [
    {
     "name": "stdout",
     "output_type": "stream",
     "text": [
      "Current working directory: /\n",
      "Loaded file: /Users/elliekavanagh/Downloads/Data for Taxi Project/Jan_Feb_2023_Yellow_Taxi_Trip_Data.csv\n",
      "Initial shape: (5980122, 19)\n"
     ]
    }
   ],
   "source": [
    "# Verify your working directory\n",
    "print(\"Current working directory:\", os.getcwd())\n",
    "\n",
    "# Select your raw CSV for taxi trip records\n",
    "Tk().withdraw()  # Hide the root window\n",
    "file_path = askopenfilename(title=\"Select your local taxi data CSV (ensure it's the raw data)\")\n",
    "original_filename = os.path.basename(file_path) \n",
    "\n",
    "# Check and load\n",
    "if not file_path or not os.path.exists(file_path):\n",
    "    raise FileNotFoundError(\"File not found or not selected.\")\n",
    "else:\n",
    "    df = pd.read_csv(file_path)\n",
    "    print(\"Loaded file:\", file_path)\n",
    "    print(\"Initial shape:\", df.shape)"
   ]
  },
  {
   "cell_type": "markdown",
   "metadata": {},
   "source": [
    "#### Initial Inspection"
   ]
  },
  {
   "cell_type": "code",
   "execution_count": 3,
   "metadata": {},
   "outputs": [
    {
     "name": "stdout",
     "output_type": "stream",
     "text": [
      "\n",
      "Data Info:\n",
      "<class 'pandas.core.frame.DataFrame'>\n",
      "RangeIndex: 5980122 entries, 0 to 5980121\n",
      "Data columns (total 19 columns):\n",
      " #   Column                 Dtype  \n",
      "---  ------                 -----  \n",
      " 0   VendorID               int64  \n",
      " 1   tpep_pickup_datetime   object \n",
      " 2   tpep_dropoff_datetime  object \n",
      " 3   passenger_count        float64\n",
      " 4   trip_distance          float64\n",
      " 5   RatecodeID             float64\n",
      " 6   store_and_fwd_flag     object \n",
      " 7   PULocationID           int64  \n",
      " 8   DOLocationID           int64  \n",
      " 9   payment_type           int64  \n",
      " 10  fare_amount            float64\n",
      " 11  extra                  float64\n",
      " 12  mta_tax                float64\n",
      " 13  tip_amount             float64\n",
      " 14  tolls_amount           float64\n",
      " 15  improvement_surcharge  float64\n",
      " 16  total_amount           float64\n",
      " 17  congestion_surcharge   float64\n",
      " 18  airport_fee            float64\n",
      "dtypes: float64(12), int64(4), object(3)\n",
      "memory usage: 866.9+ MB\n"
     ]
    }
   ],
   "source": [
    "print(\"\\nData Info:\")\n",
    "df.info()"
   ]
  },
  {
   "cell_type": "code",
   "execution_count": 4,
   "metadata": {},
   "outputs": [
    {
     "data": {
      "text/plain": [
       "Index(['VendorID', 'tpep_pickup_datetime', 'tpep_dropoff_datetime',\n",
       "       'passenger_count', 'trip_distance', 'RatecodeID', 'store_and_fwd_flag',\n",
       "       'PULocationID', 'DOLocationID', 'payment_type', 'fare_amount', 'extra',\n",
       "       'mta_tax', 'tip_amount', 'tolls_amount', 'improvement_surcharge',\n",
       "       'total_amount', 'congestion_surcharge', 'airport_fee'],\n",
       "      dtype='object')"
      ]
     },
     "execution_count": 4,
     "metadata": {},
     "output_type": "execute_result"
    }
   ],
   "source": [
    "df.columns"
   ]
  },
  {
   "cell_type": "code",
   "execution_count": 5,
   "metadata": {},
   "outputs": [
    {
     "data": {
      "text/html": [
       "<div>\n",
       "<style scoped>\n",
       "    .dataframe tbody tr th:only-of-type {\n",
       "        vertical-align: middle;\n",
       "    }\n",
       "\n",
       "    .dataframe tbody tr th {\n",
       "        vertical-align: top;\n",
       "    }\n",
       "\n",
       "    .dataframe thead th {\n",
       "        text-align: right;\n",
       "    }\n",
       "</style>\n",
       "<table border=\"1\" class=\"dataframe\">\n",
       "  <thead>\n",
       "    <tr style=\"text-align: right;\">\n",
       "      <th></th>\n",
       "      <th>VendorID</th>\n",
       "      <th>tpep_pickup_datetime</th>\n",
       "      <th>tpep_dropoff_datetime</th>\n",
       "      <th>passenger_count</th>\n",
       "      <th>trip_distance</th>\n",
       "      <th>RatecodeID</th>\n",
       "      <th>store_and_fwd_flag</th>\n",
       "      <th>PULocationID</th>\n",
       "      <th>DOLocationID</th>\n",
       "      <th>payment_type</th>\n",
       "      <th>fare_amount</th>\n",
       "      <th>extra</th>\n",
       "      <th>mta_tax</th>\n",
       "      <th>tip_amount</th>\n",
       "      <th>tolls_amount</th>\n",
       "      <th>improvement_surcharge</th>\n",
       "      <th>total_amount</th>\n",
       "      <th>congestion_surcharge</th>\n",
       "      <th>airport_fee</th>\n",
       "    </tr>\n",
       "  </thead>\n",
       "  <tbody>\n",
       "    <tr>\n",
       "      <th>0</th>\n",
       "      <td>2</td>\n",
       "      <td>01/01/2023 12:00:00 AM</td>\n",
       "      <td>01/01/2023 12:08:00 AM</td>\n",
       "      <td>NaN</td>\n",
       "      <td>1.53</td>\n",
       "      <td>NaN</td>\n",
       "      <td>NaN</td>\n",
       "      <td>42</td>\n",
       "      <td>41</td>\n",
       "      <td>0</td>\n",
       "      <td>12.98</td>\n",
       "      <td>0.0</td>\n",
       "      <td>0.5</td>\n",
       "      <td>0.00</td>\n",
       "      <td>0.0</td>\n",
       "      <td>1.0</td>\n",
       "      <td>14.48</td>\n",
       "      <td>NaN</td>\n",
       "      <td>NaN</td>\n",
       "    </tr>\n",
       "    <tr>\n",
       "      <th>1</th>\n",
       "      <td>2</td>\n",
       "      <td>01/01/2023 12:00:05 AM</td>\n",
       "      <td>01/01/2023 12:26:27 AM</td>\n",
       "      <td>1.0</td>\n",
       "      <td>1.32</td>\n",
       "      <td>1.0</td>\n",
       "      <td>N</td>\n",
       "      <td>249</td>\n",
       "      <td>186</td>\n",
       "      <td>2</td>\n",
       "      <td>21.90</td>\n",
       "      <td>1.0</td>\n",
       "      <td>0.5</td>\n",
       "      <td>0.00</td>\n",
       "      <td>0.0</td>\n",
       "      <td>1.0</td>\n",
       "      <td>26.90</td>\n",
       "      <td>2.5</td>\n",
       "      <td>0.0</td>\n",
       "    </tr>\n",
       "    <tr>\n",
       "      <th>2</th>\n",
       "      <td>2</td>\n",
       "      <td>01/01/2023 12:00:06 AM</td>\n",
       "      <td>01/01/2023 12:05:44 AM</td>\n",
       "      <td>1.0</td>\n",
       "      <td>1.70</td>\n",
       "      <td>1.0</td>\n",
       "      <td>N</td>\n",
       "      <td>125</td>\n",
       "      <td>68</td>\n",
       "      <td>2</td>\n",
       "      <td>9.30</td>\n",
       "      <td>1.0</td>\n",
       "      <td>0.5</td>\n",
       "      <td>0.00</td>\n",
       "      <td>0.0</td>\n",
       "      <td>1.0</td>\n",
       "      <td>14.30</td>\n",
       "      <td>2.5</td>\n",
       "      <td>0.0</td>\n",
       "    </tr>\n",
       "    <tr>\n",
       "      <th>3</th>\n",
       "      <td>2</td>\n",
       "      <td>01/01/2023 12:00:08 AM</td>\n",
       "      <td>01/01/2023 12:11:24 AM</td>\n",
       "      <td>1.0</td>\n",
       "      <td>3.10</td>\n",
       "      <td>1.0</td>\n",
       "      <td>N</td>\n",
       "      <td>42</td>\n",
       "      <td>244</td>\n",
       "      <td>2</td>\n",
       "      <td>16.30</td>\n",
       "      <td>1.0</td>\n",
       "      <td>0.5</td>\n",
       "      <td>0.00</td>\n",
       "      <td>0.0</td>\n",
       "      <td>1.0</td>\n",
       "      <td>18.80</td>\n",
       "      <td>0.0</td>\n",
       "      <td>0.0</td>\n",
       "    </tr>\n",
       "    <tr>\n",
       "      <th>4</th>\n",
       "      <td>2</td>\n",
       "      <td>01/01/2023 12:00:09 AM</td>\n",
       "      <td>01/01/2023 12:15:10 AM</td>\n",
       "      <td>1.0</td>\n",
       "      <td>3.80</td>\n",
       "      <td>1.0</td>\n",
       "      <td>N</td>\n",
       "      <td>79</td>\n",
       "      <td>231</td>\n",
       "      <td>1</td>\n",
       "      <td>19.80</td>\n",
       "      <td>1.0</td>\n",
       "      <td>0.5</td>\n",
       "      <td>7.44</td>\n",
       "      <td>0.0</td>\n",
       "      <td>1.0</td>\n",
       "      <td>32.24</td>\n",
       "      <td>2.5</td>\n",
       "      <td>0.0</td>\n",
       "    </tr>\n",
       "  </tbody>\n",
       "</table>\n",
       "</div>"
      ],
      "text/plain": [
       "   VendorID    tpep_pickup_datetime   tpep_dropoff_datetime  passenger_count  \\\n",
       "0         2  01/01/2023 12:00:00 AM  01/01/2023 12:08:00 AM              NaN   \n",
       "1         2  01/01/2023 12:00:05 AM  01/01/2023 12:26:27 AM              1.0   \n",
       "2         2  01/01/2023 12:00:06 AM  01/01/2023 12:05:44 AM              1.0   \n",
       "3         2  01/01/2023 12:00:08 AM  01/01/2023 12:11:24 AM              1.0   \n",
       "4         2  01/01/2023 12:00:09 AM  01/01/2023 12:15:10 AM              1.0   \n",
       "\n",
       "   trip_distance  RatecodeID store_and_fwd_flag  PULocationID  DOLocationID  \\\n",
       "0           1.53         NaN                NaN            42            41   \n",
       "1           1.32         1.0                  N           249           186   \n",
       "2           1.70         1.0                  N           125            68   \n",
       "3           3.10         1.0                  N            42           244   \n",
       "4           3.80         1.0                  N            79           231   \n",
       "\n",
       "   payment_type  fare_amount  extra  mta_tax  tip_amount  tolls_amount  \\\n",
       "0             0        12.98    0.0      0.5        0.00           0.0   \n",
       "1             2        21.90    1.0      0.5        0.00           0.0   \n",
       "2             2         9.30    1.0      0.5        0.00           0.0   \n",
       "3             2        16.30    1.0      0.5        0.00           0.0   \n",
       "4             1        19.80    1.0      0.5        7.44           0.0   \n",
       "\n",
       "   improvement_surcharge  total_amount  congestion_surcharge  airport_fee  \n",
       "0                    1.0         14.48                   NaN          NaN  \n",
       "1                    1.0         26.90                   2.5          0.0  \n",
       "2                    1.0         14.30                   2.5          0.0  \n",
       "3                    1.0         18.80                   0.0          0.0  \n",
       "4                    1.0         32.24                   2.5          0.0  "
      ]
     },
     "execution_count": 5,
     "metadata": {},
     "output_type": "execute_result"
    }
   ],
   "source": [
    "# Print the first few rows for the dataframe\n",
    "df.head()"
   ]
  },
  {
   "cell_type": "markdown",
   "metadata": {},
   "source": [
    "#### Standardized Timestamps"
   ]
  },
  {
   "cell_type": "code",
   "execution_count": 6,
   "metadata": {},
   "outputs": [],
   "source": [
    "# Convert datetime columns \n",
    "# Current Format '01/01/2023 12:00:00 AM'\n",
    "# New Format: '%m/%d/%Y %I:%M:%S %p'\n",
    "df['tpep_pickup_datetime'] = pd.to_datetime(df['tpep_pickup_datetime'], format='%m/%d/%Y %I:%M:%S %p',errors='coerce')\n",
    "df['tpep_dropoff_datetime'] = pd.to_datetime(df['tpep_dropoff_datetime'], format='%m/%d/%Y %I:%M:%S %p',errors='coerce')"
   ]
  },
  {
   "cell_type": "code",
   "execution_count": 7,
   "metadata": {},
   "outputs": [],
   "source": [
    "# Localize timestamps to NYC timezone\n",
    "df['tpep_pickup_datetime'] = df['tpep_pickup_datetime'].dt.tz_localize(\n",
    "    'America/New_York',\n",
    "    ambiguous='NaT',\n",
    "    nonexistent='shift_forward'\n",
    ")\n",
    "\n",
    "df['tpep_dropoff_datetime'] = df['tpep_dropoff_datetime'].dt.tz_localize(\n",
    "    'America/New_York',\n",
    "    ambiguous='NaT',\n",
    "    nonexistent='shift_forward'\n",
    ")"
   ]
  },
  {
   "cell_type": "code",
   "execution_count": 8,
   "metadata": {},
   "outputs": [
    {
     "name": "stdout",
     "output_type": "stream",
     "text": [
      "Timezone info (pickup): America/New_York\n"
     ]
    }
   ],
   "source": [
    "# Confirm that timestamps are now timezone-aware\n",
    "print(\"Timezone info (pickup):\", df['tpep_pickup_datetime'].dt.tz)"
   ]
  },
  {
   "cell_type": "markdown",
   "metadata": {},
   "source": [
    "#### Trip Duration Calculation"
   ]
  },
  {
   "cell_type": "code",
   "execution_count": 9,
   "metadata": {},
   "outputs": [],
   "source": [
    "# Compute trip duration (in minutes)\n",
    "df['trip_duration_min'] = (df['tpep_dropoff_datetime'] - df['tpep_pickup_datetime']).dt.total_seconds() / 60"
   ]
  },
  {
   "cell_type": "code",
   "execution_count": 10,
   "metadata": {},
   "outputs": [],
   "source": [
    "# Drop rows with NaT or negative durations\n",
    "df = df[df['trip_duration_min'].notna()]\n",
    "df = df[df['trip_duration_min'] > 0]"
   ]
  },
  {
   "cell_type": "markdown",
   "metadata": {},
   "source": [
    "#### Data Type Conversion "
   ]
  },
  {
   "cell_type": "code",
   "execution_count": 11,
   "metadata": {},
   "outputs": [],
   "source": [
    "# Numeric conversion\n",
    "num_cols = ['trip_distance', 'fare_amount', 'tip_amount', 'total_amount']\n",
    "df[num_cols] = df[num_cols].apply(pd.to_numeric, errors='coerce')\n",
    "\n",
    "# Categorical conversion\n",
    "cat_cols = ['RatecodeID', 'payment_type', 'VendorID']\n",
    "df[cat_cols] = df[cat_cols].astype('category')"
   ]
  },
  {
   "cell_type": "markdown",
   "metadata": {},
   "source": [
    "#### Filter Out Invalid/Extreme Values"
   ]
  },
  {
   "cell_type": "code",
   "execution_count": 12,
   "metadata": {},
   "outputs": [],
   "source": [
    "df = df[(df['trip_distance'] > 0) & (df['trip_distance'] < 100)] # Trip distance - Min: 0 miles, Max: 100 miles\n",
    "df = df[df['fare_amount'] > 0] # Tripe fare amount must be greater than 0\n",
    "df = df[df['trip_duration_min'] < 240]  # Trip duration is under 4 hours"
   ]
  },
  {
   "cell_type": "markdown",
   "metadata": {},
   "source": [
    "#### Add Date and Time Features"
   ]
  },
  {
   "cell_type": "code",
   "execution_count": 13,
   "metadata": {},
   "outputs": [],
   "source": [
    "# add pickup date and time features \n",
    "df['pickup_date'] = df['tpep_pickup_datetime'].dt.date\n",
    "df['pickup_hour'] = df['tpep_pickup_datetime'].dt.hour\n",
    "df['pickup_day_of_week'] = df['tpep_pickup_datetime'].dt.dayofweek  # 0 = Monday\n",
    "\n",
    "# add pickup date and time features \n",
    "df['droppoff_date'] = df['tpep_pickup_datetime'].dt.date\n",
    "df['pickup_hour'] = df['tpep_pickup_datetime'].dt.hour\n",
    "df['pickup_day_of_week'] = df['tpep_pickup_datetime'].dt.dayofweek  # 0 = Monday"
   ]
  },
  {
   "cell_type": "markdown",
   "metadata": {},
   "source": [
    "#### Check Pickup and Dropoff Location IDs"
   ]
  },
  {
   "cell_type": "code",
   "execution_count": null,
   "metadata": {},
   "outputs": [],
   "source": [
    "# Filter invalid PULocationID and DOLocationID\n",
    "initial_rows = df.shape[0]\n",
    "initial_rows\n",
    "df = df[(df['PULocationID'].between(1, 263)) & (df['DOLocationID'].between(1, 263))]\n",
    "print(f\"Shape after location ID filtering: {df.shape}\")"
   ]
  },
  {
   "cell_type": "markdown",
   "metadata": {},
   "source": [
    "#### Load Taxi Zone Lookup File"
   ]
  },
  {
   "cell_type": "code",
   "execution_count": 14,
   "metadata": {},
   "outputs": [],
   "source": [
    "Tk().withdraw()  # Hide the root window\n",
    "zone_file_path = askopenfilename(title=\"Select the taxi zone lookup CSV\")"
   ]
  },
  {
   "cell_type": "code",
   "execution_count": 15,
   "metadata": {},
   "outputs": [
    {
     "name": "stdout",
     "output_type": "stream",
     "text": [
      "Loaded zone lookup file: /Users/elliekavanagh/Downloads/Data for Taxi Project/taxi_zone_lookup.csv\n",
      "Zone file shape: (265, 4)\n"
     ]
    }
   ],
   "source": [
    "# Check and load\n",
    "if not zone_file_path or not os.path.exists(zone_file_path):\n",
    "    raise FileNotFoundError(\"Zone lookup file not found or not selected.\")\n",
    "else:\n",
    "    zones = pd.read_csv(zone_file_path, keep_default_na=True, delimiter=',', skipinitialspace=True)\n",
    "    zone_lookup = zones.copy()\n",
    "    print(\"Loaded zone lookup file:\", zone_file_path)\n",
    "    print(\"Zone file shape:\", zones.shape)"
   ]
  },
  {
   "cell_type": "code",
   "execution_count": 16,
   "metadata": {},
   "outputs": [],
   "source": [
    "# Merge pickup location info\n",
    "df = df.merge(\n",
    "    zone_lookup.rename(columns={\n",
    "        \"LocationID\": \"PULocationID\",\n",
    "        \"Zone\": \"pickup_zone\",\n",
    "        \"Borough\": \"pickup_borough\",\n",
    "        \"service_zone\": \"pickup_service_zone\"\n",
    "    }),\n",
    "    on=\"PULocationID\", how=\"left\"\n",
    ")"
   ]
  },
  {
   "cell_type": "code",
   "execution_count": 17,
   "metadata": {},
   "outputs": [],
   "source": [
    "# Merge dropoff location info\n",
    "df = df.merge(\n",
    "    zone_lookup.rename(columns={\n",
    "        \"LocationID\": \"DOLocationID\",\n",
    "        \"Zone\": \"dropoff_zone\",\n",
    "        \"Borough\": \"dropoff_borough\",\n",
    "        \"service_zone\": \"dropoff_service_zone\"\n",
    "    }),\n",
    "    on=\"DOLocationID\", how=\"left\"\n",
    ")"
   ]
  },
  {
   "cell_type": "markdown",
   "metadata": {},
   "source": [
    "#### Drop Columns"
   ]
  },
  {
   "cell_type": "code",
   "execution_count": 18,
   "metadata": {},
   "outputs": [],
   "source": [
    "columns_to_drop = [\n",
    "    'VendorID', 'RatecodeID', 'store_and_fwd_flag', 'passenger_count',\n",
    "    'payment_type', 'extra', 'mta_tax', 'tip_amount', 'tolls_amount',\n",
    "    'improvement_surcharge', 'congestion_surcharge', 'airport_fee',\n",
    "    'total_amount',  # derived field\n",
    "    'PULocationID', 'DOLocationID'  # drop since we now have zone/borough\n",
    "]\n",
    "df = df.drop(columns=columns_to_drop)"
   ]
  },
  {
   "cell_type": "markdown",
   "metadata": {},
   "source": [
    "#### Add Additional Features"
   ]
  },
  {
   "cell_type": "code",
   "execution_count": 19,
   "metadata": {},
   "outputs": [],
   "source": [
    "# Derived feature for fare per minute (target variable)\n",
    "df['fare_per_minute'] = df['fare_amount'] / df['trip_duration_min']\n",
    "# Filter out extreme fare per minute values\n",
    "# This removes any fare_per_minute that is zero or above the 99th percentile\n",
    "df = df[(df['fare_per_minute'] > 0) & (df['fare_per_minute'] < df['fare_per_minute'].quantile(0.99))]"
   ]
  },
  {
   "cell_type": "code",
   "execution_count": 20,
   "metadata": {},
   "outputs": [],
   "source": [
    "# Derived feature for trip speed\n",
    "df['trip_speed'] = df['trip_distance'] / df['trip_duration_min']  # miles per minute\n",
    "df['trip_speed_mph'] = df['trip_speed'] * 60\n",
    "df = df[(df['trip_speed_mph'] > 1) & (df['trip_speed_mph'] < 60)] # reasonable speed limits"
   ]
  },
  {
   "cell_type": "code",
   "execution_count": 21,
   "metadata": {},
   "outputs": [],
   "source": [
    "# Deriving feature for time of day based on segmenting\n",
    "def time_of_day(hour):\n",
    "    if 0 <= hour < 5:\n",
    "        return 'Early Morning'\n",
    "    elif 5 <= hour < 10:\n",
    "        return 'Morning Rush'\n",
    "    elif 10 <= hour < 15:\n",
    "        return 'Midday'\n",
    "    elif 15 <= hour < 19:\n",
    "        return 'Evening Rush'\n",
    "    else:\n",
    "        return 'Night'\n",
    "df['time_of_day'] = df['pickup_hour'].apply(time_of_day)"
   ]
  },
  {
   "cell_type": "code",
   "execution_count": 24,
   "metadata": {},
   "outputs": [],
   "source": [
    "# Create weekday/weekend label\n",
    "df['day_type'] = df['pickup_day_of_week'].apply(lambda x: 'Weekend' if x >= 5 else 'Weekday')\n",
    "#Add Day Type (Weekday vs Weekend) weekend flag\n",
    "df['is_weekend'] = df['pickup_day_of_week'].isin([5, 6])  # Saturday = 5, Sunday = 6"
   ]
  },
  {
   "cell_type": "markdown",
   "metadata": {},
   "source": [
    "#### Save Clean DF to CSV"
   ]
  },
  {
   "cell_type": "code",
   "execution_count": 27,
   "metadata": {},
   "outputs": [
    {
     "data": {
      "text/plain": [
       "count    5.781177e+06\n",
       "mean     1.821540e+01\n",
       "std      1.571209e+01\n",
       "min      1.000000e-02\n",
       "25%      9.300000e+00\n",
       "50%      1.280000e+01\n",
       "75%      1.980000e+01\n",
       "max      5.133000e+02\n",
       "Name: fare_amount, dtype: float64"
      ]
     },
     "execution_count": 27,
     "metadata": {},
     "output_type": "execute_result"
    }
   ],
   "source": [
    "df['fare_amount'].describe()"
   ]
  },
  {
   "cell_type": "code",
   "execution_count": 36,
   "metadata": {},
   "outputs": [
    {
     "name": "stdout",
     "output_type": "stream",
     "text": [
      "<class 'pandas.core.frame.DataFrame'>\n",
      "Index: 5781177 entries, 0 to 5842103\n",
      "Data columns (total 21 columns):\n",
      " #   Column                 Dtype                           \n",
      "---  ------                 -----                           \n",
      " 0   tpep_pickup_datetime   datetime64[ns, America/New_York]\n",
      " 1   tpep_dropoff_datetime  datetime64[ns, America/New_York]\n",
      " 2   trip_distance          float64                         \n",
      " 3   fare_amount            float64                         \n",
      " 4   trip_duration_min      float64                         \n",
      " 5   pickup_date            datetime64[ns]                  \n",
      " 6   pickup_hour            int32                           \n",
      " 7   pickup_day_of_week     int32                           \n",
      " 8   droppoff_date          datetime64[ns]                  \n",
      " 9   pickup_borough         category                        \n",
      " 10  pickup_zone            category                        \n",
      " 11  pickup_service_zone    category                        \n",
      " 12  dropoff_borough        category                        \n",
      " 13  dropoff_zone           category                        \n",
      " 14  dropoff_service_zone   category                        \n",
      " 15  fare_per_minute        float64                         \n",
      " 16  trip_speed             float64                         \n",
      " 17  trip_speed_mph         float64                         \n",
      " 18  time_of_day            category                        \n",
      " 19  is_weekend             bool                            \n",
      " 20  day_type               category                        \n",
      "dtypes: bool(1), category(8), datetime64[ns, America/New_York](2), datetime64[ns](2), float64(6), int32(2)\n",
      "memory usage: 590.0 MB\n"
     ]
    }
   ],
   "source": [
    "df.info()"
   ]
  },
  {
   "cell_type": "markdown",
   "metadata": {},
   "source": [
    "#### Convert Data Types Again"
   ]
  },
  {
   "cell_type": "code",
   "execution_count": 31,
   "metadata": {},
   "outputs": [],
   "source": [
    "cat_cols = ['pickup_borough', 'pickup_zone', 'pickup_service_zone',\n",
    "            'dropoff_borough', 'dropoff_zone', 'dropoff_service_zone',\n",
    "            'time_of_day', 'day_type', ]\n",
    "\n",
    "for col in cat_cols:\n",
    "    df[col] = df[col].astype(\"category\")"
   ]
  },
  {
   "cell_type": "code",
   "execution_count": 38,
   "metadata": {},
   "outputs": [],
   "source": [
    "df['pickup_date'] = pd.to_datetime(df['pickup_date'])\n",
    "df['droppoff_date'] = pd.to_datetime(df['droppoff_date'])"
   ]
  },
  {
   "cell_type": "markdown",
   "metadata": {},
   "source": [
    "#### Save Cleaned Dataframe to CSV"
   ]
  },
  {
   "cell_type": "code",
   "execution_count": 44,
   "metadata": {},
   "outputs": [
    {
     "name": "stdout",
     "output_type": "stream",
     "text": [
      "Cleaned dataset saved to: /Users/elliekavanagh/Downloads/Data for Taxi Project/Clean_Jan_Feb_2023_Yellow_Taxi_Trip_Data.csv\n",
      "Final shape: (5781177, 21)\n"
     ]
    }
   ],
   "source": [
    "default_filename = \"Clean_\" + original_filename\n",
    "\n",
    "# Hide the root Tkinter window\n",
    "Tk().withdraw()\n",
    "\n",
    "# Open save file dialog (no default path logic)\n",
    "save_path = asksaveasfilename(\n",
    "    initialfile=default_filename,\n",
    "    title=\"Select where to save cleaned taxi data CSV\",\n",
    "    defaultextension=\".csv\",\n",
    "    filetypes=[(\"CSV files\", \"*.csv\")]\n",
    ")\n",
    "\n",
    "if save_path:\n",
    "    df.to_csv(save_path, index=False)\n",
    "    print(f\"Cleaned dataset saved to: {save_path}\")\n",
    "    print(f\"Final shape: {df.shape}\")\n",
    "else:\n",
    "    print(\"Save cancelled, file was not saved.\")"
   ]
  }
 ],
 "metadata": {
  "kernelspec": {
   "display_name": "base",
   "language": "python",
   "name": "python3"
  },
  "language_info": {
   "codemirror_mode": {
    "name": "ipython",
    "version": 3
   },
   "file_extension": ".py",
   "mimetype": "text/x-python",
   "name": "python",
   "nbconvert_exporter": "python",
   "pygments_lexer": "ipython3",
   "version": "3.12.4"
  }
 },
 "nbformat": 4,
 "nbformat_minor": 2
}
