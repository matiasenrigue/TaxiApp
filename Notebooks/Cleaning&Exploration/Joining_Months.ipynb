{
 "cells": [
  {
   "cell_type": "markdown",
   "id": "3fe62cfe",
   "metadata": {},
   "source": [
    "## Code to Join Months Together\n",
    "\n",
    "In this notebook we want to be able to join different raw datasets together to make a single csv"
   ]
  },
  {
   "cell_type": "code",
   "execution_count": 3,
   "id": "513d42c6",
   "metadata": {},
   "outputs": [],
   "source": [
    "import pandas as pd\n",
    "import os\n",
    "from tkinter import Tk\n",
    "from tkinter.filedialog import askopenfilenames, asksaveasfilename"
   ]
  },
  {
   "cell_type": "code",
   "execution_count": 4,
   "id": "ebd8cafd",
   "metadata": {},
   "outputs": [
    {
     "name": "stdout",
     "output_type": "stream",
     "text": [
      "Files selected:\n",
      "('C:/diksha/Summer Sem/DataAnalysis/Data/raw_data/yellow_taxi_Feb_15.csv', 'C:/diksha/Summer Sem/DataAnalysis/Data/raw_data/yellow_taxi_Feb_28.csv', 'C:/diksha/Summer Sem/DataAnalysis/Data/raw_data/yellow_taxi_Jan_15.csv', 'C:/diksha/Summer Sem/DataAnalysis/Data/raw_data/yellow_taxi_Jan_31.csv')\n",
      "Loading: yellow_taxi_Feb_15.csv\n",
      "Loading: yellow_taxi_Feb_28.csv\n",
      "Loading: yellow_taxi_Jan_15.csv\n",
      "Loading: yellow_taxi_Jan_31.csv\n",
      "\n",
      "Combined shape: (5980729, 19)\n",
      "\n",
      " Preview of combined data:\n",
      "   VendorID    tpep_pickup_datetime   tpep_dropoff_datetime  passenger_count  \\\n",
      "0         2  02/01/2023 12:00:00 AM  02/01/2023 12:15:00 AM              NaN   \n",
      "1         2  02/01/2023 12:00:01 AM  02/01/2023 12:33:41 AM              1.0   \n",
      "2         2  02/01/2023 12:00:02 AM  02/01/2023 12:11:08 AM              1.0   \n",
      "3         1  02/01/2023 12:00:04 AM  02/01/2023 12:25:20 AM              2.0   \n",
      "4         2  02/01/2023 12:00:07 AM  02/01/2023 12:03:10 AM              1.0   \n",
      "\n",
      "   trip_distance  RatecodeID store_and_fwd_flag  PULocationID  DOLocationID  \\\n",
      "0           3.10         NaN                NaN           230            79   \n",
      "1          17.31         2.0                  N           132           170   \n",
      "2           1.91         1.0                  Y           186            48   \n",
      "3           6.40         1.0                  N            90           181   \n",
      "4           1.12         1.0                  N           137            79   \n",
      "\n",
      "   payment_type  fare_amount  extra  mta_tax  tip_amount  tolls_amount  \\\n",
      "0             0        16.83    0.0      0.5        4.17          0.00   \n",
      "1             1        70.00    0.0      0.5       16.36          6.55   \n",
      "2             1        12.80    1.0      0.5        3.56          0.00   \n",
      "3             1        29.60    3.5      0.5        3.00          0.00   \n",
      "4             1         6.50    1.0      0.5        2.30          0.00   \n",
      "\n",
      "   improvement_surcharge  total_amount  congestion_surcharge  airport_fee  \n",
      "0                    1.0         25.00                   NaN          NaN  \n",
      "1                    1.0         98.16                   2.5         1.25  \n",
      "2                    1.0         21.36                   2.5         0.00  \n",
      "3                    1.0         37.60                   2.5         0.00  \n",
      "4                    1.0         13.80                   2.5         0.00  \n",
      "\n",
      " Column list:\n",
      "Index(['VendorID', 'tpep_pickup_datetime', 'tpep_dropoff_datetime',\n",
      "       'passenger_count', 'trip_distance', 'RatecodeID', 'store_and_fwd_flag',\n",
      "       'PULocationID', 'DOLocationID', 'payment_type', 'fare_amount', 'extra',\n",
      "       'mta_tax', 'tip_amount', 'tolls_amount', 'improvement_surcharge',\n",
      "       'total_amount', 'congestion_surcharge', 'airport_fee'],\n",
      "      dtype='object')\n",
      "\n",
      " Combined file saved as: C:/diksha/Summer Sem/DataAnalysis/Data/raw_data/Jan_Feb_Taxi.csv\n"
     ]
    }
   ],
   "source": [
    "# Let the user select multiple CSV files to combine\n",
    "Tk().withdraw()\n",
    "file_paths = askopenfilenames(title=\"Select the cleaned CSV chunks to combine\")\n",
    "\n",
    "if not file_paths:\n",
    "    raise ValueError(\"No files selected.\")\n",
    "\n",
    "print(f\"Files selected:\\n{file_paths}\")\n",
    "\n",
    "#  Step 3: Load and combine all files\n",
    "chunks = []\n",
    "for file in file_paths:\n",
    "    print(f\"Loading: {os.path.basename(file)}\")\n",
    "    df_chunk = pd.read_csv(file)\n",
    "    chunks.append(df_chunk)\n",
    "\n",
    "df_combined = pd.concat(chunks, ignore_index=True)\n",
    "print(f\"\\nCombined shape: {df_combined.shape}\")\n",
    "\n",
    "# 🔍 Step 4: Optional check – preview\n",
    "print(\"\\n Preview of combined data:\")\n",
    "print(df_combined.head())\n",
    "print(\"\\n Column list:\")\n",
    "print(df_combined.columns)\n",
    "\n",
    "#  Step 5: Save to new CSV\n",
    "output_path = asksaveasfilename(\n",
    "    title=\"Save combined file as...\",\n",
    "    defaultextension=\".csv\",\n",
    "    filetypes=[(\"CSV Files\", \"*.csv\")]\n",
    ")\n",
    "\n",
    "if output_path:\n",
    "    df_combined.to_csv(output_path, index=False)\n",
    "    print(f\"\\n Combined file saved as: {output_path}\")\n",
    "else:\n",
    "    print(\"\\n Save cancelled.\")"
   ]
  }
 ],
 "metadata": {
  "kernelspec": {
   "display_name": "Python 3",
   "language": "python",
   "name": "python3"
  },
  "language_info": {
   "codemirror_mode": {
    "name": "ipython",
    "version": 3
   },
   "file_extension": ".py",
   "mimetype": "text/x-python",
   "name": "python",
   "nbconvert_exporter": "python",
   "pygments_lexer": "ipython3",
   "version": "3.12.11"
  }
 },
 "nbformat": 4,
 "nbformat_minor": 5
}
