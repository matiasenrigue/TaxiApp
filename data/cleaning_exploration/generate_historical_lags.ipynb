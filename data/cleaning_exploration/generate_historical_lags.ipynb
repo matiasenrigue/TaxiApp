{
 "cells": [
  {
   "cell_type": "code",
   "execution_count": 11,
   "metadata": {},
   "outputs": [
    {
     "name": "stdout",
     "output_type": "stream",
     "text": [
      "Processing Clean_July_Taxi.csv...\n",
      "Processing Clean_August_Taxi.csv...\n",
      "Saved July & August lag data to: /Users/elliekavanagh/TaxiApp/data/data_models_api/hotspot_model/historical_lags.csv\n"
     ]
    }
   ],
   "source": [
    "import os\n",
    "import pandas as pd\n",
    "from datetime import datetime\n",
    "\n",
    "# Path to monthly cleaned CSVs (adjust if needed)\n",
    "RAW_DATA_DIR = os.path.expanduser(\"~/Downloads/Monthly Data\")\n",
    "\n",
    "# Project root and output file\n",
    "PROJECT_ROOT = os.path.expanduser(\"~/TaxiApp/data\")\n",
    "OUTPUT_PATH = os.path.join(PROJECT_ROOT, \"data_models_api/hotspot_model/historical_lags.csv\")\n",
    "\n",
    "# Mapping of all 12 months\n",
    "month_file_map = {\n",
    "    1: \"Clean_January_Taxi.csv\",\n",
    "    2: \"Clean_February_Taxi.csv\",\n",
    "    3: \"Clean_March_Taxi.csv\",\n",
    "    4: \"Clean_April_Taxi.csv\",\n",
    "    5: \"Clean_May_Taxi.csv\",\n",
    "    6: \"Clean_June_Taxi.csv\",\n",
    "    7: \"Clean_July_Taxi.csv\",\n",
    "    8: \"Clean_August_Taxi.csv\",\n",
    "    9: \"Clean_September_Taxi.csv\",\n",
    "    10: \"Clean_October_Taxi.csv\",\n",
    "    11: \"Clean_November_Taxi.csv\",\n",
    "    12: \"Clean_December_Taxi.csv\",\n",
    "}\n",
    "\n",
    "# Target months for proxy lag\n",
    "target_months = [7, 8]\n",
    "all_agg = []\n",
    "\n",
    "for month in target_months:\n",
    "    filename = month_file_map[month]\n",
    "    file_path = os.path.join(RAW_DATA_DIR, filename)\n",
    "\n",
    "    if not os.path.exists(file_path):\n",
    "        print(f\"File not found: {file_path}\")\n",
    "        continue\n",
    "\n",
    "    print(f\"Processing {filename}...\")\n",
    "    df = pd.read_csv(file_path)\n",
    "\n",
    "    # Parse datetime\n",
    "    df[\"pickup_datetime\"] = pd.to_datetime(df[\"tpep_pickup_datetime\"], errors=\"coerce\")\n",
    "    df = df.dropna(subset=[\"pickup_datetime\"])\n",
    "    df[\"pickup_date\"] = df[\"pickup_datetime\"].dt.date\n",
    "    df[\"pickup_hour\"] = df[\"pickup_datetime\"].dt.hour\n",
    "\n",
    "    # Ensure column is present\n",
    "    if \"pickup_zone\" not in df.columns:\n",
    "        print(f\"'pickup_zone' column missing in {filename}, skipping.\")\n",
    "        continue\n",
    "\n",
    "    # Aggregate to zone-hour-level trip counts\n",
    "    agg = (\n",
    "        df.groupby([\"pickup_date\", \"pickup_hour\", \"pickup_zone\"])\n",
    "        .size()\n",
    "        .reset_index(name=\"trip_count\")\n",
    "    )\n",
    "\n",
    "    all_agg.append(agg)\n",
    "\n",
    "if not all_agg:\n",
    "    raise ValueError(\"No valid data processed. Nothing to save.\")\n",
    "\n",
    "# Combine all month-level aggregations\n",
    "historical_lags = pd.concat(all_agg, ignore_index=True)\n",
    "\n",
    "# Ensure target output folder exists\n",
    "os.makedirs(os.path.dirname(OUTPUT_PATH), exist_ok=True)\n",
    "\n",
    "# Write to project path\n",
    "historical_lags.to_csv(OUTPUT_PATH, index=False)\n",
    "\n",
    "print(f\"Saved July & August lag data to: {OUTPUT_PATH}\")\n"
   ]
  }
 ],
 "metadata": {
  "kernelspec": {
   "display_name": "taxi_env",
   "language": "python",
   "name": "python3"
  },
  "language_info": {
   "codemirror_mode": {
    "name": "ipython",
    "version": 3
   },
   "file_extension": ".py",
   "mimetype": "text/x-python",
   "name": "python",
   "nbconvert_exporter": "python",
   "pygments_lexer": "ipython3",
   "version": "3.10.18"
  }
 },
 "nbformat": 4,
 "nbformat_minor": 2
}
