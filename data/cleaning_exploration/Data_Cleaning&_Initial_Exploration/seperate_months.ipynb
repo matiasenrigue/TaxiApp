{
 "cells": [
  {
   "cell_type": "markdown",
   "id": "9855caeb",
   "metadata": {},
   "source": [
    "## Seperate Months\n",
    "\n",
    "In this notebook I am attempting to seperate the months that we originally combined together for the intial Data cleaning to double check that the files were saved properly checking the input and output row count"
   ]
  },
  {
   "cell_type": "code",
   "execution_count": null,
   "id": "51baed05",
   "metadata": {},
   "outputs": [
    {
     "name": "stdout",
     "output_type": "stream",
     "text": [
      "\n",
      " Loaded: C:/diksha/Summer Sem/DataAnalysis/Data/cleaned/Clean_July_August_Taxi.csv\n",
      " Original rows: 5344795 | Columns: 25\n",
      "\n",
      "📤 Preparing July: 2713937 rows\n",
      " Saved: C:/diksha/Summer Sem/DataAnalysis/Data/cleaned/Clean_July_Taxi.csv\n",
      "\n",
      "📤 Preparing August: 2630858 rows\n",
      " Saved: C:/diksha/Summer Sem/DataAnalysis/Data/cleaned/Clean_August_Taxi.csv\n",
      "\n",
      " Final Check:\n",
      "   Original rows: 5344795\n",
      "   Rows saved in total: 5344795\n",
      " Success: No data was lost in the split!\n"
     ]
    }
   ],
   "source": [
    "import pandas as pd\n",
    "from tkinter.filedialog import askopenfilename, asksaveasfilename\n",
    "from tkinter import Tk\n",
    "\n",
    "# Step 1: Load the original paired-month CSV\n",
    "Tk().withdraw()\n",
    "file_path = askopenfilename(title=\"Select Paired Month CSV (e.g., Jan–Feb)\")\n",
    "df = pd.read_csv(file_path)\n",
    "original_shape = df.shape\n",
    "print(f\"\\n Loaded: {file_path}\")\n",
    "print(f\" Original rows: {original_shape[0]} | Columns: {original_shape[1]}\")\n",
    "\n",
    "# Step 2: Convert pickup_date to datetime\n",
    "df['pickup_date'] = pd.to_datetime(df['pickup_date'], errors='coerce')\n",
    "\n",
    "# Check for null dates\n",
    "missing_dates = df['pickup_date'].isna().sum()\n",
    "if missing_dates > 0:\n",
    "    print(f\" Warning: {missing_dates} rows have invalid or missing pickup_date. They will be excluded.\")\n",
    "    df = df.dropna(subset=['pickup_date'])\n",
    "\n",
    "# Step 3: Identify months\n",
    "months = df['pickup_date'].dt.month.unique()\n",
    "months = sorted(months)\n",
    "\n",
    "if len(months) != 2:\n",
    "    print(f\" Expected 2 months, but found {len(months)}: {months}\")\n",
    "else:\n",
    "    total_rows_saved = 0\n",
    "\n",
    "    for month in months:\n",
    "        df_month = df[df['pickup_date'].dt.month == month].copy()\n",
    "        month_name = pd.to_datetime(f'2025-{month:02d}-01').strftime('%B')\n",
    "        \n",
    "        print(f\"\\n Preparing {month_name}: {df_month.shape[0]} rows\")\n",
    "\n",
    "        save_path = asksaveasfilename(\n",
    "            title=f\"Save {month_name} CSV\",\n",
    "            initialfile=f\"{month_name}.csv\",\n",
    "            defaultextension=\".csv\",\n",
    "            filetypes=[(\"CSV Files\", \"*.csv\")]\n",
    "        )\n",
    "\n",
    "        if save_path:\n",
    "            df_month.to_csv(save_path, index=False)\n",
    "            print(f\" Saved: {save_path}\")\n",
    "            total_rows_saved += df_month.shape[0]\n",
    "        else:\n",
    "            print(f\" Save canceled for {month_name}\")\n",
    "\n",
    "    #  Final check: compare input vs output row count\n",
    "    print(f\"\\n Final Check:\")\n",
    "    print(f\"   Original rows: {original_shape[0] - missing_dates}\")\n",
    "    print(f\"   Rows saved in total: {total_rows_saved}\")\n",
    "\n",
    "    if (original_shape[0] - missing_dates) == total_rows_saved:\n",
    "        print(\" Success: No data was lost in the split!\")\n",
    "    else:\n",
    "        print(\" Mismatch detected — double-check saved files.\")\n"
   ]
  }
 ],
 "metadata": {
  "kernelspec": {
   "display_name": "comp47360Summerpy312",
   "language": "python",
   "name": "python3"
  },
  "language_info": {
   "codemirror_mode": {
    "name": "ipython",
    "version": 3
   },
   "file_extension": ".py",
   "mimetype": "text/x-python",
   "name": "python",
   "nbconvert_exporter": "python",
   "pygments_lexer": "ipython3",
   "version": "3.12.11"
  }
 },
 "nbformat": 4,
 "nbformat_minor": 5
}
