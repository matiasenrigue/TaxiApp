{
 "cells": [
  {
   "cell_type": "markdown",
   "id": "3fe62cfe",
   "metadata": {},
   "source": [
    "## Code to Join Months Together\n",
    "\n",
    "In this notebook we want to be able to join different raw datasets together to make a single csv for ease of use when doing data cleaning and exploration"
   ]
  },
  {
   "cell_type": "code",
   "execution_count": 1,
   "id": "513d42c6",
   "metadata": {},
   "outputs": [],
   "source": [
    "import pandas as pd\n",
    "import os\n",
    "from tkinter import Tk\n",
    "from tkinter.filedialog import askopenfilenames, asksaveasfilename"
   ]
  },
  {
   "cell_type": "code",
   "execution_count": 2,
   "id": "ebd8cafd",
   "metadata": {},
   "outputs": [
    {
     "name": "stdout",
     "output_type": "stream",
     "text": [
      "Files selected:\n",
      "('C:/diksha/Summer Sem/DataAnalysis/Data/cleaned/Clean_Jan_Feb_Taxi.csv', 'C:/diksha/Summer Sem/DataAnalysis/Data/cleaned/Clean_March_April_Taxi.csv')\n",
      "Loading: Clean_Jan_Feb_Taxi.csv\n",
      "Loading: Clean_March_April_Taxi.csv\n",
      "\n",
      "Combined shape: (12060291, 25)\n",
      "\n",
      " Preview of combined data:\n",
      "        tpep_pickup_datetime      tpep_dropoff_datetime  trip_distance  \\\n",
      "0  2023-02-01 00:00:00-05:00  2023-02-01 00:15:00-05:00           3.10   \n",
      "1  2023-02-01 00:00:01-05:00  2023-02-01 00:33:41-05:00          17.31   \n",
      "2  2023-02-01 00:00:02-05:00  2023-02-01 00:11:08-05:00           1.91   \n",
      "3  2023-02-01 00:00:04-05:00  2023-02-01 00:25:20-05:00           6.40   \n",
      "4  2023-02-01 00:00:07-05:00  2023-02-01 00:03:10-05:00           1.12   \n",
      "\n",
      "   fare_amount  trip_duration_min pickup_date  pickup_hour  \\\n",
      "0        16.83          15.000000  2023-02-01            0   \n",
      "1        70.00          33.666667  2023-02-01            0   \n",
      "2        12.80          11.100000  2023-02-01            0   \n",
      "3        29.60          25.266667  2023-02-01            0   \n",
      "4         6.50           3.050000  2023-02-01            0   \n",
      "\n",
      "   pickup_day_of_week droppoff_date pickup_borough  ... fare_per_minute  \\\n",
      "0                   2    2023-02-01      Manhattan  ...        1.122000   \n",
      "1                   2    2023-02-01         Queens  ...        2.079208   \n",
      "2                   2    2023-02-01      Manhattan  ...        1.153153   \n",
      "3                   2    2023-02-01      Manhattan  ...        1.171504   \n",
      "4                   2    2023-02-01      Manhattan  ...        2.131148   \n",
      "\n",
      "  fare_per_mile trip_speed trip_speed_mph    time_of_day  day_type  \\\n",
      "0      5.429032   0.206667      12.400000  Early Morning   Weekday   \n",
      "1      4.043905   0.514158      30.849505  Early Morning   Weekday   \n",
      "2      6.701571   0.172072      10.324324  Early Morning   Weekday   \n",
      "3      4.625000   0.253298      15.197889  Early Morning   Weekday   \n",
      "4      5.803571   0.367213      22.032787  Early Morning   Weekday   \n",
      "\n",
      "   is_weekend  is_airport_pickup  is_airport_dropoff is_airport_trip  \n",
      "0       False              False               False           False  \n",
      "1       False               True               False            True  \n",
      "2       False              False               False           False  \n",
      "3       False              False               False           False  \n",
      "4       False              False               False           False  \n",
      "\n",
      "[5 rows x 25 columns]\n",
      "\n",
      " Column list:\n",
      "Index(['tpep_pickup_datetime', 'tpep_dropoff_datetime', 'trip_distance',\n",
      "       'fare_amount', 'trip_duration_min', 'pickup_date', 'pickup_hour',\n",
      "       'pickup_day_of_week', 'droppoff_date', 'pickup_borough', 'pickup_zone',\n",
      "       'pickup_service_zone', 'dropoff_borough', 'dropoff_zone',\n",
      "       'service_zone', 'fare_per_minute', 'fare_per_mile', 'trip_speed',\n",
      "       'trip_speed_mph', 'time_of_day', 'day_type', 'is_weekend',\n",
      "       'is_airport_pickup', 'is_airport_dropoff', 'is_airport_trip'],\n",
      "      dtype='object')\n",
      "\n",
      " Combined file saved as: C:/diksha/Summer Sem/DataAnalysis/Data/cleaned/Clean_Jan_April_taxi.csv\n"
     ]
    }
   ],
   "source": [
    "# Let the user select multiple CSV files to combine\n",
    "Tk().withdraw()\n",
    "file_paths = askopenfilenames(title=\"Select the cleaned CSV chunks to combine\")\n",
    "\n",
    "if not file_paths:\n",
    "    raise ValueError(\"No files selected.\")\n",
    "\n",
    "print(f\"Files selected:\\n{file_paths}\")\n",
    "\n",
    "# check the csv files \n",
    "\n",
    "#  Step 3: Load and combine all files\n",
    "chunks = []\n",
    "for file in file_paths:\n",
    "    print(f\"Loading: {os.path.basename(file)}\")\n",
    "    df_chunk = pd.read_csv(file)\n",
    "    chunks.append(df_chunk)\n",
    "\n",
    "df_combined = pd.concat(chunks, ignore_index=True)\n",
    "print(f\"\\nCombined shape: {df_combined.shape}\")\n",
    "\n",
    "#  Step 4: Optional check – preview\n",
    "print(\"\\n Preview of combined data:\")\n",
    "print(df_combined.head())\n",
    "print(\"\\n Column list:\")\n",
    "print(df_combined.columns)\n",
    "\n",
    "#  Step 5: Save to new CSV\n",
    "output_path = asksaveasfilename(\n",
    "    title=\"Save combined file as...\",\n",
    "    defaultextension=\".csv\",\n",
    "    filetypes=[(\"CSV Files\", \"*.csv\")]\n",
    ")\n",
    "\n",
    "if output_path:\n",
    "    df_combined.to_csv(output_path, index=False)\n",
    "    print(f\"\\n Combined file saved as: {output_path}\")\n",
    "else:\n",
    "    print(\"\\n Save cancelled.\")"
   ]
  }
 ],
 "metadata": {
  "kernelspec": {
   "display_name": "comp47360Summerpy312",
   "language": "python",
   "name": "python3"
  },
  "language_info": {
   "codemirror_mode": {
    "name": "ipython",
    "version": 3
   },
   "file_extension": ".py",
   "mimetype": "text/x-python",
   "name": "python",
   "nbconvert_exporter": "python",
   "pygments_lexer": "ipython3",
   "version": "3.12.11"
  }
 },
 "nbformat": 4,
 "nbformat_minor": 5
}
